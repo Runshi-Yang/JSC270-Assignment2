{
  "nbformat": 4,
  "nbformat_minor": 0,
  "metadata": {
    "colab": {
      "name": "JSC270_Assignment2",
      "provenance": [],
      "collapsed_sections": [],
      "toc_visible": true,
      "include_colab_link": true
    },
    "kernelspec": {
      "name": "python3",
      "display_name": "Python 3"
    }
  },
  "cells": [
    {
      "cell_type": "markdown",
      "metadata": {
        "id": "view-in-github",
        "colab_type": "text"
      },
      "source": [
        "<a href=\"https://colab.research.google.com/github/Runshi-Yang/JSC270_HW2_2022_RunshiYang/blob/main/JSC270_Assignment2.ipynb\" target=\"_parent\"><img src=\"https://colab.research.google.com/assets/colab-badge.svg\" alt=\"Open In Colab\"/></a>"
      ]
    },
    {
      "cell_type": "markdown",
      "source": [
        "# JSC270 Assigment 2"
      ],
      "metadata": {
        "id": "NHXKhMg4SdOd"
      }
    },
    {
      "cell_type": "markdown",
      "metadata": {
        "id": "Dx3JcBg8VZ-a"
      },
      "source": [
        "###Libraries you'll likely need"
      ]
    },
    {
      "cell_type": "code",
      "metadata": {
        "id": "3I79uCwE3Sq8"
      },
      "source": [
        "import pandas as pd\n",
        "import numpy as np\n",
        "import matplotlib.pyplot as plt\n",
        "import seaborn as sns\n",
        "from scipy import stats\n",
        "import statsmodels.api as sm\n",
        "import statsmodels.formula.api as smf"
      ],
      "execution_count": 472,
      "outputs": []
    },
    {
      "cell_type": "markdown",
      "metadata": {
        "id": "X0oR7u9m-wO6"
      },
      "source": [
        "###Importing data"
      ]
    },
    {
      "cell_type": "code",
      "metadata": {
        "id": "f3jscp2H3Yqm"
      },
      "source": [
        "income94 = pd.read_csv('https://archive.ics.uci.edu/ml/machine-learning-databases/adult/adult.data', header=None)\n",
        "income94.columns = ['age','workclass', 'fnlwgt','education','education_num','marital_status','occupation',\n",
        "                    'relationship','race','sex','capital_gain','capital_loss','hours_per_week','native_country','gross_income_group']"
      ],
      "execution_count": 473,
      "outputs": []
    },
    {
      "cell_type": "markdown",
      "source": [
        "##PART II - DATA Analysis "
      ],
      "metadata": {
        "id": "LhjMpL0iCBso"
      }
    },
    {
      "cell_type": "markdown",
      "source": [
        "### Initial data exploration"
      ],
      "metadata": {
        "id": "TbRVEuFuSL3h"
      }
    },
    {
      "cell_type": "markdown",
      "source": [
        "#### 1. Check the columns of your data"
      ],
      "metadata": {
        "id": "j85-Cvw_CagZ"
      }
    },
    {
      "cell_type": "code",
      "source": [
        "income94.info()"
      ],
      "metadata": {
        "colab": {
          "base_uri": "https://localhost:8080/"
        },
        "id": "XRbgqBWpCmQ-",
        "outputId": "0c1add68-a9b1-40ed-c42c-badf509abb2c"
      },
      "execution_count": 474,
      "outputs": [
        {
          "output_type": "stream",
          "name": "stdout",
          "text": [
            "<class 'pandas.core.frame.DataFrame'>\n",
            "RangeIndex: 32561 entries, 0 to 32560\n",
            "Data columns (total 15 columns):\n",
            " #   Column              Non-Null Count  Dtype \n",
            "---  ------              --------------  ----- \n",
            " 0   age                 32561 non-null  int64 \n",
            " 1   workclass           32561 non-null  object\n",
            " 2   fnlwgt              32561 non-null  int64 \n",
            " 3   education           32561 non-null  object\n",
            " 4   education_num       32561 non-null  int64 \n",
            " 5   marital_status      32561 non-null  object\n",
            " 6   occupation          32561 non-null  object\n",
            " 7   relationship        32561 non-null  object\n",
            " 8   race                32561 non-null  object\n",
            " 9   sex                 32561 non-null  object\n",
            " 10  capital_gain        32561 non-null  int64 \n",
            " 11  capital_loss        32561 non-null  int64 \n",
            " 12  hours_per_week      32561 non-null  int64 \n",
            " 13  native_country      32561 non-null  object\n",
            " 14  gross_income_group  32561 non-null  object\n",
            "dtypes: int64(6), object(9)\n",
            "memory usage: 3.7+ MB\n"
          ]
        }
      ]
    },
    {
      "cell_type": "markdown",
      "source": [
        "age, fnlwgt, education-num, capital-gain, capital-loss and hours-per-week are described as continuous in [this text file description of the data](https://archive.ics.uci.edu/ml/machine-learning-databases/adult/adult.names), they are expected to be of type float64 instead of int64. All of the other columns are the expected data types based on their descriptions. "
      ],
      "metadata": {
        "id": "V9T7SypkEcE2"
      }
    },
    {
      "cell_type": "markdown",
      "source": [
        "####2. Missing values"
      ],
      "metadata": {
        "id": "k8dCcCjCSq-F"
      }
    },
    {
      "cell_type": "code",
      "source": [
        "income94.age.value_counts() # use value_counts() to identify special characters in numeric variables"
      ],
      "metadata": {
        "colab": {
          "base_uri": "https://localhost:8080/"
        },
        "id": "RiH4iGFcG8E9",
        "outputId": "e84c4526-4a96-48b8-ad8d-70634aada558"
      },
      "execution_count": 475,
      "outputs": [
        {
          "output_type": "execute_result",
          "data": {
            "text/plain": [
              "36    898\n",
              "31    888\n",
              "34    886\n",
              "23    877\n",
              "35    876\n",
              "     ... \n",
              "83      6\n",
              "88      3\n",
              "85      3\n",
              "86      1\n",
              "87      1\n",
              "Name: age, Length: 73, dtype: int64"
            ]
          },
          "metadata": {},
          "execution_count": 475
        }
      ]
    },
    {
      "cell_type": "code",
      "source": [
        "income94.workclass.value_counts() # Notice that \" ?\" is representing the missing value in this column."
      ],
      "metadata": {
        "colab": {
          "base_uri": "https://localhost:8080/"
        },
        "id": "rfBdTiSfHvVp",
        "outputId": "697b12a8-ba46-4640-84be-f48343a40864"
      },
      "execution_count": 476,
      "outputs": [
        {
          "output_type": "execute_result",
          "data": {
            "text/plain": [
              " Private             22696\n",
              " Self-emp-not-inc     2541\n",
              " Local-gov            2093\n",
              " ?                    1836\n",
              " State-gov            1298\n",
              " Self-emp-inc         1116\n",
              " Federal-gov           960\n",
              " Without-pay            14\n",
              " Never-worked            7\n",
              "Name: workclass, dtype: int64"
            ]
          },
          "metadata": {},
          "execution_count": 476
        }
      ]
    },
    {
      "cell_type": "code",
      "source": [
        "income94.fnlwgt.value_counts()"
      ],
      "metadata": {
        "colab": {
          "base_uri": "https://localhost:8080/"
        },
        "id": "Tn7SyKPYHz4Z",
        "outputId": "32a6dca9-d626-4ab8-8995-9659897bf15f"
      },
      "execution_count": 477,
      "outputs": [
        {
          "output_type": "execute_result",
          "data": {
            "text/plain": [
              "164190    13\n",
              "203488    13\n",
              "123011    13\n",
              "148995    12\n",
              "121124    12\n",
              "          ..\n",
              "232784     1\n",
              "325573     1\n",
              "140176     1\n",
              "318264     1\n",
              "257302     1\n",
              "Name: fnlwgt, Length: 21648, dtype: int64"
            ]
          },
          "metadata": {},
          "execution_count": 477
        }
      ]
    },
    {
      "cell_type": "code",
      "source": [
        "income94.education_num.value_counts()"
      ],
      "metadata": {
        "colab": {
          "base_uri": "https://localhost:8080/"
        },
        "id": "v-Yq1QDkH4Y5",
        "outputId": "a5458c2b-54a7-4e5e-bb64-517c08dfea09"
      },
      "execution_count": 478,
      "outputs": [
        {
          "output_type": "execute_result",
          "data": {
            "text/plain": [
              "9     10501\n",
              "10     7291\n",
              "13     5355\n",
              "14     1723\n",
              "11     1382\n",
              "7      1175\n",
              "12     1067\n",
              "6       933\n",
              "4       646\n",
              "15      576\n",
              "5       514\n",
              "8       433\n",
              "16      413\n",
              "3       333\n",
              "2       168\n",
              "1        51\n",
              "Name: education_num, dtype: int64"
            ]
          },
          "metadata": {},
          "execution_count": 478
        }
      ]
    },
    {
      "cell_type": "code",
      "source": [
        "income94.marital_status.value_counts()"
      ],
      "metadata": {
        "colab": {
          "base_uri": "https://localhost:8080/"
        },
        "id": "ehB9tIDUKoKw",
        "outputId": "ba94c334-3307-40e1-cab4-8bbdfb158f27"
      },
      "execution_count": 479,
      "outputs": [
        {
          "output_type": "execute_result",
          "data": {
            "text/plain": [
              " Married-civ-spouse       14976\n",
              " Never-married            10683\n",
              " Divorced                  4443\n",
              " Separated                 1025\n",
              " Widowed                    993\n",
              " Married-spouse-absent      418\n",
              " Married-AF-spouse           23\n",
              "Name: marital_status, dtype: int64"
            ]
          },
          "metadata": {},
          "execution_count": 479
        }
      ]
    },
    {
      "cell_type": "code",
      "source": [
        "income94.occupation.value_counts() # Notice that \" ?\" is representing the missing value in this column."
      ],
      "metadata": {
        "colab": {
          "base_uri": "https://localhost:8080/"
        },
        "id": "0xYP67JPK-RV",
        "outputId": "5c34037d-3cf7-400d-ac39-5e3a42a86dd7"
      },
      "execution_count": 480,
      "outputs": [
        {
          "output_type": "execute_result",
          "data": {
            "text/plain": [
              " Prof-specialty       4140\n",
              " Craft-repair         4099\n",
              " Exec-managerial      4066\n",
              " Adm-clerical         3770\n",
              " Sales                3650\n",
              " Other-service        3295\n",
              " Machine-op-inspct    2002\n",
              " ?                    1843\n",
              " Transport-moving     1597\n",
              " Handlers-cleaners    1370\n",
              " Farming-fishing       994\n",
              " Tech-support          928\n",
              " Protective-serv       649\n",
              " Priv-house-serv       149\n",
              " Armed-Forces            9\n",
              "Name: occupation, dtype: int64"
            ]
          },
          "metadata": {},
          "execution_count": 480
        }
      ]
    },
    {
      "cell_type": "code",
      "source": [
        "income94.relationship.value_counts()"
      ],
      "metadata": {
        "colab": {
          "base_uri": "https://localhost:8080/"
        },
        "id": "HazI_XQCOn1f",
        "outputId": "ceef0335-37c1-45fd-a0c6-1a43960f5a78"
      },
      "execution_count": 481,
      "outputs": [
        {
          "output_type": "execute_result",
          "data": {
            "text/plain": [
              " Husband           13193\n",
              " Not-in-family      8305\n",
              " Own-child          5068\n",
              " Unmarried          3446\n",
              " Wife               1568\n",
              " Other-relative      981\n",
              "Name: relationship, dtype: int64"
            ]
          },
          "metadata": {},
          "execution_count": 481
        }
      ]
    },
    {
      "cell_type": "code",
      "source": [
        "income94.race.value_counts()"
      ],
      "metadata": {
        "colab": {
          "base_uri": "https://localhost:8080/"
        },
        "id": "gBbww1kSOz-y",
        "outputId": "58fe44a4-66cc-4cf0-8ec0-3a1619c785c3"
      },
      "execution_count": 482,
      "outputs": [
        {
          "output_type": "execute_result",
          "data": {
            "text/plain": [
              " White                 27816\n",
              " Black                  3124\n",
              " Asian-Pac-Islander     1039\n",
              " Amer-Indian-Eskimo      311\n",
              " Other                   271\n",
              "Name: race, dtype: int64"
            ]
          },
          "metadata": {},
          "execution_count": 482
        }
      ]
    },
    {
      "cell_type": "code",
      "source": [
        "income94.sex.value_counts()"
      ],
      "metadata": {
        "colab": {
          "base_uri": "https://localhost:8080/"
        },
        "id": "wMuY7rr2O4s1",
        "outputId": "fd703a09-9702-4102-c16b-9d99a25e0c04"
      },
      "execution_count": 483,
      "outputs": [
        {
          "output_type": "execute_result",
          "data": {
            "text/plain": [
              " Male      21790\n",
              " Female    10771\n",
              "Name: sex, dtype: int64"
            ]
          },
          "metadata": {},
          "execution_count": 483
        }
      ]
    },
    {
      "cell_type": "code",
      "source": [
        "income94.capital_gain.value_counts()"
      ],
      "metadata": {
        "colab": {
          "base_uri": "https://localhost:8080/"
        },
        "id": "UxbVFPs6O-QS",
        "outputId": "23b3a407-7a0e-4563-cc08-fbcc3994aada"
      },
      "execution_count": 484,
      "outputs": [
        {
          "output_type": "execute_result",
          "data": {
            "text/plain": [
              "0        29849\n",
              "15024      347\n",
              "7688       284\n",
              "7298       246\n",
              "99999      159\n",
              "         ...  \n",
              "1111         1\n",
              "2538         1\n",
              "22040        1\n",
              "4931         1\n",
              "5060         1\n",
              "Name: capital_gain, Length: 119, dtype: int64"
            ]
          },
          "metadata": {},
          "execution_count": 484
        }
      ]
    },
    {
      "cell_type": "code",
      "source": [
        "income94.capital_loss.value_counts()"
      ],
      "metadata": {
        "colab": {
          "base_uri": "https://localhost:8080/"
        },
        "id": "hBK0T4wkPJo-",
        "outputId": "7e436b7c-cd4f-4ea4-8a29-65c9e6b4c869"
      },
      "execution_count": 485,
      "outputs": [
        {
          "output_type": "execute_result",
          "data": {
            "text/plain": [
              "0       31042\n",
              "1902      202\n",
              "1977      168\n",
              "1887      159\n",
              "1848       51\n",
              "        ...  \n",
              "2080        1\n",
              "1539        1\n",
              "1844        1\n",
              "2489        1\n",
              "1411        1\n",
              "Name: capital_loss, Length: 92, dtype: int64"
            ]
          },
          "metadata": {},
          "execution_count": 485
        }
      ]
    },
    {
      "cell_type": "code",
      "source": [
        "income94.hours_per_week.value_counts()"
      ],
      "metadata": {
        "colab": {
          "base_uri": "https://localhost:8080/"
        },
        "id": "t2PycKoCPag4",
        "outputId": "fde9e1de-622d-4810-a923-a76deceff7de"
      },
      "execution_count": 486,
      "outputs": [
        {
          "output_type": "execute_result",
          "data": {
            "text/plain": [
              "40    15217\n",
              "50     2819\n",
              "45     1824\n",
              "60     1475\n",
              "35     1297\n",
              "      ...  \n",
              "82        1\n",
              "92        1\n",
              "87        1\n",
              "74        1\n",
              "94        1\n",
              "Name: hours_per_week, Length: 94, dtype: int64"
            ]
          },
          "metadata": {},
          "execution_count": 486
        }
      ]
    },
    {
      "cell_type": "code",
      "source": [
        "income94.native_country.value_counts() # Notice that \" ?\" is representing the missing value in this column."
      ],
      "metadata": {
        "colab": {
          "base_uri": "https://localhost:8080/"
        },
        "id": "PAWPK6ijPkLp",
        "outputId": "7b8544ca-4672-4955-cee3-85aacbb470c5"
      },
      "execution_count": 487,
      "outputs": [
        {
          "output_type": "execute_result",
          "data": {
            "text/plain": [
              " United-States                 29170\n",
              " Mexico                          643\n",
              " ?                               583\n",
              " Philippines                     198\n",
              " Germany                         137\n",
              " Canada                          121\n",
              " Puerto-Rico                     114\n",
              " El-Salvador                     106\n",
              " India                           100\n",
              " Cuba                             95\n",
              " England                          90\n",
              " Jamaica                          81\n",
              " South                            80\n",
              " China                            75\n",
              " Italy                            73\n",
              " Dominican-Republic               70\n",
              " Vietnam                          67\n",
              " Guatemala                        64\n",
              " Japan                            62\n",
              " Poland                           60\n",
              " Columbia                         59\n",
              " Taiwan                           51\n",
              " Haiti                            44\n",
              " Iran                             43\n",
              " Portugal                         37\n",
              " Nicaragua                        34\n",
              " Peru                             31\n",
              " France                           29\n",
              " Greece                           29\n",
              " Ecuador                          28\n",
              " Ireland                          24\n",
              " Hong                             20\n",
              " Cambodia                         19\n",
              " Trinadad&Tobago                  19\n",
              " Laos                             18\n",
              " Thailand                         18\n",
              " Yugoslavia                       16\n",
              " Outlying-US(Guam-USVI-etc)       14\n",
              " Honduras                         13\n",
              " Hungary                          13\n",
              " Scotland                         12\n",
              " Holand-Netherlands                1\n",
              "Name: native_country, dtype: int64"
            ]
          },
          "metadata": {},
          "execution_count": 487
        }
      ]
    },
    {
      "cell_type": "code",
      "source": [
        "income94.gross_income_group.value_counts()"
      ],
      "metadata": {
        "colab": {
          "base_uri": "https://localhost:8080/"
        },
        "id": "SpGSujH-Pwau",
        "outputId": "41fd46b2-36f4-4727-f5f7-b12d40473fb4"
      },
      "execution_count": 488,
      "outputs": [
        {
          "output_type": "execute_result",
          "data": {
            "text/plain": [
              " <=50K    24720\n",
              " >50K      7841\n",
              "Name: gross_income_group, dtype: int64"
            ]
          },
          "metadata": {},
          "execution_count": 488
        }
      ]
    },
    {
      "cell_type": "code",
      "source": [
        "income94 = income94.replace(' ?', np.NaN) # Cast missing values to np.NaN"
      ],
      "metadata": {
        "id": "vto6w0SOI6U0"
      },
      "execution_count": 489,
      "outputs": []
    },
    {
      "cell_type": "code",
      "source": [
        "income94.isnull().sum() # Check that all missing values are casted to np.NaN"
      ],
      "metadata": {
        "colab": {
          "base_uri": "https://localhost:8080/"
        },
        "id": "DgZWtszmRBWl",
        "outputId": "6c3dfdd8-4fc9-491d-ed6d-6f059524d22d"
      },
      "execution_count": 490,
      "outputs": [
        {
          "output_type": "execute_result",
          "data": {
            "text/plain": [
              "age                      0\n",
              "workclass             1836\n",
              "fnlwgt                   0\n",
              "education                0\n",
              "education_num            0\n",
              "marital_status           0\n",
              "occupation            1843\n",
              "relationship             0\n",
              "race                     0\n",
              "sex                      0\n",
              "capital_gain             0\n",
              "capital_loss             0\n",
              "hours_per_week           0\n",
              "native_country         583\n",
              "gross_income_group       0\n",
              "dtype: int64"
            ]
          },
          "metadata": {},
          "execution_count": 490
        }
      ]
    },
    {
      "cell_type": "markdown",
      "source": [
        "There are 1836 missing values in column 'workclass', 1843 missing values in column 'occupation', 583 missing values in column 'native_country'. Other columns do not have missing values."
      ],
      "metadata": {
        "id": "nmCTcT4ORgNw"
      }
    },
    {
      "cell_type": "markdown",
      "source": [
        "####3. Plot the distributions"
      ],
      "metadata": {
        "id": "M6aQ5_taTKK8"
      }
    },
    {
      "cell_type": "code",
      "source": [
        "plt.hist(income94.capital_gain, bins = 30)\n",
        "plt.title('Histogram of Capital Gain')\n",
        "plt.xlabel('Capital Gain')\n",
        "plt.ylabel('count')\n",
        "plt.show()"
      ],
      "metadata": {
        "colab": {
          "base_uri": "https://localhost:8080/",
          "height": 295
        },
        "id": "OgHOO5vfTTjq",
        "outputId": "b6b68a8a-8538-47cf-b8e2-a0bf577050f3"
      },
      "execution_count": 491,
      "outputs": [
        {
          "output_type": "display_data",
          "data": {
            "image/png": "[encoded data removed]",
            "text/plain": [
              "<Figure size 432x288 with 1 Axes>"
            ]
          },
          "metadata": {
            "needs_background": "light"
          }
        }
      ]
    },
    {
      "cell_type": "code",
      "source": [
        "plt.hist(income94.capital_loss, bins = 30)\n",
        "plt.title('Histogram of Capital Loss')\n",
        "plt.xlabel('Capital Loss')\n",
        "plt.ylabel('count')\n",
        "plt.show()"
      ],
      "metadata": {
        "colab": {
          "base_uri": "https://localhost:8080/",
          "height": 295
        },
        "id": "VcvQorZIUf9z",
        "outputId": "234e5ecc-7f83-4be6-dd83-5502af93c722"
      },
      "execution_count": 492,
      "outputs": [
        {
          "output_type": "display_data",
          "data": {
            "image/png": "[encoded data removed]",
            "text/plain": [
              "<Figure size 432x288 with 1 Axes>"
            ]
          },
          "metadata": {
            "needs_background": "light"
          }
        }
      ]
    },
    {
      "cell_type": "markdown",
      "source": [
        "I think these variables should be transformed to categorical variables, since most of (more than 90%) of the capital gain or capital loss are 0, it is reasonable to group them into one group and let the others in one group. I will create two columns named 'zero_gain' and 'zero_loss' with boolean values 'True' or 'False' in the following:"
      ],
      "metadata": {
        "id": "TpAjwyy-Uz4X"
      }
    },
    {
      "cell_type": "code",
      "source": [
        "# Divide observations into 2 types based on their 'capital_gain' values.\n",
        "gain_types = [income94['capital_gain'] == 0, income94['capital_gain'] != 0]\n",
        "# Divide observations into 2 types based on their 'capital_loss' values.\n",
        "loss_types = [income94['capital_loss'] == 0, income94['capital_loss'] != 0]\n",
        "type_values = ['true', 'false']\n",
        "income94['zero_gain'] = np.select(gain_types, type_values)\n",
        "income94['zero_loss'] = np.select(loss_types, type_values)\n"
      ],
      "metadata": {
        "id": "Rz4sjJWNWpOz"
      },
      "execution_count": 493,
      "outputs": []
    },
    {
      "cell_type": "markdown",
      "source": [
        "Plot the distribution of the new categorical variables:"
      ],
      "metadata": {
        "id": "gvu4o5LJZK77"
      }
    },
    {
      "cell_type": "code",
      "source": [
        "income94['zero_gain'].value_counts().plot(kind = 'bar')\n",
        "plt.xlabel('Zero Capital Gain')\n",
        "plt.ylabel('Count')\n",
        "plt.show()"
      ],
      "metadata": {
        "colab": {
          "base_uri": "https://localhost:8080/",
          "height": 293
        },
        "id": "xztJvsOvY-ll",
        "outputId": "9c9f27a6-cd15-4f96-c8f9-bfc98672ec75"
      },
      "execution_count": 494,
      "outputs": [
        {
          "output_type": "display_data",
          "data": {
            "image/png": "[encoded data removed]",
            "text/plain": [
              "<Figure size 432x288 with 1 Axes>"
            ]
          },
          "metadata": {
            "needs_background": "light"
          }
        }
      ]
    },
    {
      "cell_type": "code",
      "source": [
        "income94['zero_loss'].value_counts().plot(kind = 'bar')\n",
        "plt.xlabel('Zero Capital Loss')\n",
        "plt.ylabel('Count')\n",
        "plt.show()"
      ],
      "metadata": {
        "colab": {
          "base_uri": "https://localhost:8080/",
          "height": 293
        },
        "id": "c5GPHv_4Z6HF",
        "outputId": "20d0d636-fb33-49ea-cbed-43bf1b29a37b"
      },
      "execution_count": 495,
      "outputs": [
        {
          "output_type": "display_data",
          "data": {
            "image/png": "[encoded data removed]",
            "text/plain": [
              "<Figure size 432x288 with 1 Axes>"
            ]
          },
          "metadata": {
            "needs_background": "light"
          }
        }
      ]
    },
    {
      "cell_type": "markdown",
      "source": [
        "####4. Distribution of *fnlwgt*"
      ],
      "metadata": {
        "id": "cTZ4xDKp2U9K"
      }
    },
    {
      "cell_type": "code",
      "source": [
        "plt.hist(income94.fnlwgt, bins = 30)\n",
        "plt.title('Histogram of Final Weight')\n",
        "plt.xlabel('final weight')\n",
        "plt.ylabel('Relative Frequency')\n",
        "plt.show()\n",
        "sns.boxplot(x = 'fnlwgt', data = income94)\n",
        "plt.xlabel('final weight')\n",
        "plt.title('Box Plot of Final Weight')\n",
        "plt.show()"
      ],
      "metadata": {
        "colab": {
          "base_uri": "https://localhost:8080/",
          "height": 573
        },
        "id": "1X2P6m562mzk",
        "outputId": "c961e3c6-246e-470e-de53-b2e5582c3c2c"
      },
      "execution_count": 496,
      "outputs": [
        {
          "output_type": "display_data",
          "data": {
            "image/png": "[encoded data removed]",
            "text/plain": [
              "<Figure size 432x288 with 1 Axes>"
            ]
          },
          "metadata": {
            "needs_background": "light"
          }
        },
        {
          "output_type": "display_data",
          "data": {
            "image/png": "[encoded data removed]",
            "text/plain": [
              "<Figure size 432x288 with 1 Axes>"
            ]
          },
          "metadata": {
            "needs_background": "light"
          }
        }
      ]
    },
    {
      "cell_type": "markdown",
      "source": [
        "The variable *fnlwgt* is not symmetrically distributed, but positively skewed."
      ],
      "metadata": {
        "id": "ULXtKQAy3u8A"
      }
    },
    {
      "cell_type": "code",
      "source": [
        "income94.hist(column = 'fnlwgt', by = \"sex\", figsize = (15,6), bins = 20)"
      ],
      "metadata": {
        "colab": {
          "base_uri": "https://localhost:8080/",
          "height": 459
        },
        "id": "3HuRU-tn49pr",
        "outputId": "8906da5f-f983-4447-c24a-6245030f394f"
      },
      "execution_count": 497,
      "outputs": [
        {
          "output_type": "execute_result",
          "data": {
            "text/plain": [
              "array([<matplotlib.axes._subplots.AxesSubplot object at 0x7f3fa2cbdd90>,\n",
              "       <matplotlib.axes._subplots.AxesSubplot object at 0x7f3fa2cebb10>],\n",
              "      dtype=object)"
            ]
          },
          "metadata": {},
          "execution_count": 497
        },
        {
          "output_type": "display_data",
          "data": {
            "image/png": "[encoded data removed]",
            "text/plain": [
              "<Figure size 1080x432 with 2 Axes>"
            ]
          },
          "metadata": {
            "needs_background": "light"
          }
        }
      ]
    },
    {
      "cell_type": "markdown",
      "source": [
        "The distribution of this variable between men and women are very similar, both of them are positively skewed, and the modes are all at around $0.2\\times 10^6$. But there are twice as many male as female with the same final weight."
      ],
      "metadata": {
        "id": "LePvLYOA9MOU"
      }
    },
    {
      "cell_type": "code",
      "source": [
        "  # Capture 1st and 3rd quartiles\n",
        "  firstquart = income94['fnlwgt'].quantile(q=0.25)\n",
        "  thirdquart = income94['fnlwgt'].quantile(q=0.75)\n",
        "\n",
        "  # Generate IQR\n",
        "  iqr = thirdquart - firstquart\n",
        "\n",
        "  # Generate the boundary for an outlier (ie. the whiskers of the plot)\n",
        "  lower_whisker = firstquart - 1.5*iqr\n",
        "  upper_whisker = thirdquart + 1.5*iqr\n",
        "\n",
        "  # Gen outlier income94\n",
        "  outliers = income94[(income94['fnlwgt'] > upper_whisker) | (income94['fnlwgt'] < lower_whisker)]"
      ],
      "metadata": {
        "id": "tElDIZTdGhrc"
      },
      "execution_count": 498,
      "outputs": []
    },
    {
      "cell_type": "code",
      "source": [
        "outliers.count"
      ],
      "metadata": {
        "colab": {
          "base_uri": "https://localhost:8080/"
        },
        "id": "WX-xZiD_ot2G",
        "outputId": "cf88d438-f485-40db-c5d0-0b2c4ab27467"
      },
      "execution_count": 499,
      "outputs": [
        {
          "output_type": "execute_result",
          "data": {
            "text/plain": [
              "<bound method DataFrame.count of        age          workclass  fnlwgt  ... gross_income_group  zero_gain zero_loss\n",
              "37      19            Private  544091  ...              <=50K       true      true\n",
              "40      31            Private  507875  ...              <=50K       true      true\n",
              "80      18            Private  446839  ...              <=50K       true      true\n",
              "110     24            Private  432376  ...              <=50K       true      true\n",
              "157     71   Self-emp-not-inc  494223  ...              <=50K       true     false\n",
              "...    ...                ...     ...  ...                ...        ...       ...\n",
              "32306   24            Private  427686  ...              <=50K       true      true\n",
              "32329   28            Private  435842  ...              <=50K       true      true\n",
              "32470   50            Private  485710  ...              <=50K       true      true\n",
              "32496   18            Private  436163  ...              <=50K       true      true\n",
              "32511   25          Local-gov  514716  ...              <=50K       true      true\n",
              "\n",
              "[992 rows x 17 columns]>"
            ]
          },
          "metadata": {},
          "execution_count": 499
        }
      ]
    },
    {
      "cell_type": "code",
      "source": [
        "# Change the value of each outlier to np.NaN\n",
        "for i in outliers.index:\n",
        "  income94.loc[i, 'fnlwgt'] = np.NaN"
      ],
      "metadata": {
        "id": "4aeVVrc4owoN"
      },
      "execution_count": 500,
      "outputs": []
    },
    {
      "cell_type": "markdown",
      "source": [
        "The outliers should be excluded, since there are 992 out of 32561 outiers, removing them will not affect the number of observasions greatly and will increase the accuracy of the models building on this dataset."
      ],
      "metadata": {
        "id": "BVg-4tgRFt7y"
      }
    },
    {
      "cell_type": "markdown",
      "source": [
        "### Correlation"
      ],
      "metadata": {
        "id": "t9RFUrZv-Uub"
      }
    },
    {
      "cell_type": "markdown",
      "source": [
        "####1. Find the correlations between age, education_num, and hours_per_week. "
      ],
      "metadata": {
        "id": "cwQyYi2t-b74"
      }
    },
    {
      "cell_type": "markdown",
      "source": [
        "a.  Do any of the variables appear to be correlated? How did you make your assessment?"
      ],
      "metadata": {
        "id": "WQGXIlIc-ma9"
      }
    },
    {
      "cell_type": "code",
      "source": [
        "income94[['age', 'education_num', 'hours_per_week']].corr()"
      ],
      "metadata": {
        "colab": {
          "base_uri": "https://localhost:8080/",
          "height": 143
        },
        "id": "Gbbe3juzAsUK",
        "outputId": "c27c8922-4db1-48a0-e840-d00a7a05f4c7"
      },
      "execution_count": 501,
      "outputs": [
        {
          "output_type": "execute_result",
          "data": {
            "text/html": [
              "\n",
              "  <div id=\"df-470faf2b-8ec1-4500-b545-8ad34cc0bef5\">\n",
              "    <div class=\"colab-df-container\">\n",
              "      <div>\n",
              "<style scoped>\n",
              "    .dataframe tbody tr th:only-of-type {\n",
              "        vertical-align: middle;\n",
              "    }\n",
              "\n",
              "    .dataframe tbody tr th {\n",
              "        vertical-align: top;\n",
              "    }\n",
              "\n",
              "    .dataframe thead th {\n",
              "        text-align: right;\n",
              "    }\n",
              "</style>\n",
              "<table border=\"1\" class=\"dataframe\">\n",
              "  <thead>\n",
              "    <tr style=\"text-align: right;\">\n",
              "      <th></th>\n",
              "      <th>age</th>\n",
              "      <th>education_num</th>\n",
              "      <th>hours_per_week</th>\n",
              "    </tr>\n",
              "  </thead>\n",
              "  <tbody>\n",
              "    <tr>\n",
              "      <th>age</th>\n",
              "      <td>1.000000</td>\n",
              "      <td>0.036527</td>\n",
              "      <td>0.068756</td>\n",
              "    </tr>\n",
              "    <tr>\n",
              "      <th>education_num</th>\n",
              "      <td>0.036527</td>\n",
              "      <td>1.000000</td>\n",
              "      <td>0.148123</td>\n",
              "    </tr>\n",
              "    <tr>\n",
              "      <th>hours_per_week</th>\n",
              "      <td>0.068756</td>\n",
              "      <td>0.148123</td>\n",
              "      <td>1.000000</td>\n",
              "    </tr>\n",
              "  </tbody>\n",
              "</table>\n",
              "</div>\n",
              "      <button class=\"colab-df-convert\" onclick=\"convertToInteractive('df-470faf2b-8ec1-4500-b545-8ad34cc0bef5')\"\n",
              "              title=\"Convert this dataframe to an interactive table.\"\n",
              "              style=\"display:none;\">\n",
              "        \n",
              "  <svg xmlns=\"http://www.w3.org/2000/svg\" height=\"24px\"viewBox=\"0 0 24 24\"\n",
              "       width=\"24px\">\n",
              "    <path d=\"M0 0h24v24H0V0z\" fill=\"none\"/>\n",
              "    <path d=\"M18.56 5.44l.94 2.06.94-2.06 2.06-.94-2.06-.94-.94-2.06-.94 2.06-2.06.94zm-11 1L8.5 8.5l.94-2.06 2.06-.94-2.06-.94L8.5 2.5l-.94 2.06-2.06.94zm10 10l.94 2.06.94-2.06 2.06-.94-2.06-.94-.94-2.06-.94 2.06-2.06.94z\"/><path d=\"M17.41 7.96l-1.37-1.37c-.4-.4-.92-.59-1.43-.59-.52 0-1.04.2-1.43.59L10.3 9.45l-7.72 7.72c-.78.78-.78 2.05 0 2.83L4 21.41c.39.39.9.59 1.41.59.51 0 1.02-.2 1.41-.59l7.78-7.78 2.81-2.81c.8-.78.8-2.07 0-2.86zM5.41 20L4 18.59l7.72-7.72 1.47 1.35L5.41 20z\"/>\n",
              "  </svg>\n",
              "      </button>\n",
              "      \n",
              "  <style>\n",
              "    .colab-df-container {\n",
              "      display:flex;\n",
              "      flex-wrap:wrap;\n",
              "      gap: 12px;\n",
              "    }\n",
              "\n",
              "    .colab-df-convert {\n",
              "      background-color: #E8F0FE;\n",
              "      border: none;\n",
              "      border-radius: 50%;\n",
              "      cursor: pointer;\n",
              "      display: none;\n",
              "      fill: #1967D2;\n",
              "      height: 32px;\n",
              "      padding: 0 0 0 0;\n",
              "      width: 32px;\n",
              "    }\n",
              "\n",
              "    .colab-df-convert:hover {\n",
              "      background-color: #E2EBFA;\n",
              "      box-shadow: 0px 1px 2px rgba(60, 64, 67, 0.3), 0px 1px 3px 1px rgba(60, 64, 67, 0.15);\n",
              "      fill: #174EA6;\n",
              "    }\n",
              "\n",
              "    [theme=dark] .colab-df-convert {\n",
              "      background-color: #3B4455;\n",
              "      fill: #D2E3FC;\n",
              "    }\n",
              "\n",
              "    [theme=dark] .colab-df-convert:hover {\n",
              "      background-color: #434B5C;\n",
              "      box-shadow: 0px 1px 3px 1px rgba(0, 0, 0, 0.15);\n",
              "      filter: drop-shadow(0px 1px 2px rgba(0, 0, 0, 0.3));\n",
              "      fill: #FFFFFF;\n",
              "    }\n",
              "  </style>\n",
              "\n",
              "      <script>\n",
              "        const buttonEl =\n",
              "          document.querySelector('#df-470faf2b-8ec1-4500-b545-8ad34cc0bef5 button.colab-df-convert');\n",
              "        buttonEl.style.display =\n",
              "          google.colab.kernel.accessAllowed ? 'block' : 'none';\n",
              "\n",
              "        async function convertToInteractive(key) {\n",
              "          const element = document.querySelector('#df-470faf2b-8ec1-4500-b545-8ad34cc0bef5');\n",
              "          const dataTable =\n",
              "            await google.colab.kernel.invokeFunction('convertToInteractive',\n",
              "                                                     [key], {});\n",
              "          if (!dataTable) return;\n",
              "\n",
              "          const docLinkHtml = 'Like what you see? Visit the ' +\n",
              "            '<a target=\"_blank\" href=https://colab.research.google.com/notebooks/data_table.ipynb>data table notebook</a>'\n",
              "            + ' to learn more about interactive tables.';\n",
              "          element.innerHTML = '';\n",
              "          dataTable['output_type'] = 'display_data';\n",
              "          await google.colab.output.renderOutput(dataTable, element);\n",
              "          const docLink = document.createElement('div');\n",
              "          docLink.innerHTML = docLinkHtml;\n",
              "          element.appendChild(docLink);\n",
              "        }\n",
              "      </script>\n",
              "    </div>\n",
              "  </div>\n",
              "  "
            ],
            "text/plain": [
              "                     age  education_num  hours_per_week\n",
              "age             1.000000       0.036527        0.068756\n",
              "education_num   0.036527       1.000000        0.148123\n",
              "hours_per_week  0.068756       0.148123        1.000000"
            ]
          },
          "metadata": {},
          "execution_count": 501
        }
      ]
    },
    {
      "cell_type": "markdown",
      "source": [
        "education_num and hours_per_week appear to be correlated. I made my assessment since their correlation coefficient is much larger than 0."
      ],
      "metadata": {
        "id": "oEhrsQ3_BcYO"
      }
    },
    {
      "cell_type": "markdown",
      "source": [
        "b. Statistically test any variable pairs with a correlation coefficient > |0.1| for its difference from 0 and report your result. Is the direction and significance of your finding as expected?"
      ],
      "metadata": {
        "id": "5JFtwoMV-3tQ"
      }
    },
    {
      "cell_type": "code",
      "source": [
        "# Pearson correlation test\n",
        "stat, p = stats.pearsonr(income94['education_num'], income94['hours_per_week'])\n",
        "print('stat=%.3f, p=%.3f' % (stat, p))"
      ],
      "metadata": {
        "colab": {
          "base_uri": "https://localhost:8080/"
        },
        "id": "9ieSQLK8DlL_",
        "outputId": "00626d83-370b-4295-ba1a-bd7d1c87c7e9"
      },
      "execution_count": 502,
      "outputs": [
        {
          "output_type": "stream",
          "name": "stdout",
          "text": [
            "stat=0.148, p=0.000\n"
          ]
        }
      ]
    },
    {
      "cell_type": "markdown",
      "source": [
        "The correlation between education_num and age is 0.148 and its significance is 0, which indicates strong evidence against the null hypothesis. The direction and significance of my finding are as expected since people with more education will find jobs more easily."
      ],
      "metadata": {
        "id": "Pj9NHLaZRcry"
      }
    },
    {
      "cell_type": "markdown",
      "source": [
        "c. How does the correlation (and its significance) between education_num and age compare between male and female participants? Is this expected?\n"
      ],
      "metadata": {
        "id": "noMFT9cTEPY_"
      }
    },
    {
      "cell_type": "code",
      "source": [
        "male_income = income94.loc[income94['sex'] == ' Male']\n",
        "# Pearson correlation test\n",
        "stat, p = stats.pearsonr(male_income['education_num'], male_income['age'])\n",
        "print('stat=%.3f, p=%.3f' % (stat, p))"
      ],
      "metadata": {
        "colab": {
          "base_uri": "https://localhost:8080/"
        },
        "id": "IS1hxwA-LcQL",
        "outputId": "23558044-d9b0-4248-fb1d-34b2781c7e11"
      },
      "execution_count": 503,
      "outputs": [
        {
          "output_type": "stream",
          "name": "stdout",
          "text": [
            "stat=0.060, p=0.000\n"
          ]
        }
      ]
    },
    {
      "cell_type": "code",
      "source": [
        "female_income = income94.loc[income94['sex'] == ' Female']\n",
        "# Pearson correlation test\n",
        "stat, p = stats.pearsonr(female_income['education_num'], female_income['age'])\n",
        "print('stat=%.3f, p=%.3f' % (stat, p))"
      ],
      "metadata": {
        "colab": {
          "base_uri": "https://localhost:8080/"
        },
        "id": "l_czqYX_VI4o",
        "outputId": "3479d44a-e9e0-4d2a-ab9a-205610868da3"
      },
      "execution_count": 504,
      "outputs": [
        {
          "output_type": "stream",
          "name": "stdout",
          "text": [
            "stat=-0.018, p=0.063\n"
          ]
        }
      ]
    },
    {
      "cell_type": "markdown",
      "source": [
        "The correlation is 0.06 (and its significance is 0) between education_num and age for male and he correlation is -0.018 (and its significance is 0.063) between education_num and age for female. This is as expected since the older men are, the earlier they are educated and the more education they receive. And because of the prevalence of gender equality, women living in the 21st century have become more educated, so younger women receive more education."
      ],
      "metadata": {
        "id": "-SL8zaoaVmKf"
      }
    },
    {
      "cell_type": "markdown",
      "source": [
        "d. Compute the covariance matrix for education_num and hours_per_week. What conclusions can you draw from the covariance matrix?"
      ],
      "metadata": {
        "id": "lfvTxklbLcv9"
      }
    },
    {
      "cell_type": "code",
      "source": [
        "income94[['education_num', 'hours_per_week']].cov()"
      ],
      "metadata": {
        "colab": {
          "base_uri": "https://localhost:8080/",
          "height": 112
        },
        "id": "IMgLtiQcLoIU",
        "outputId": "641b9920-1c00-41c0-87fc-c32adddb328c"
      },
      "execution_count": 505,
      "outputs": [
        {
          "output_type": "execute_result",
          "data": {
            "text/html": [
              "\n",
              "  <div id=\"df-eec30a6f-ed1e-49ef-bd45-60a8fa998f41\">\n",
              "    <div class=\"colab-df-container\">\n",
              "      <div>\n",
              "<style scoped>\n",
              "    .dataframe tbody tr th:only-of-type {\n",
              "        vertical-align: middle;\n",
              "    }\n",
              "\n",
              "    .dataframe tbody tr th {\n",
              "        vertical-align: top;\n",
              "    }\n",
              "\n",
              "    .dataframe thead th {\n",
              "        text-align: right;\n",
              "    }\n",
              "</style>\n",
              "<table border=\"1\" class=\"dataframe\">\n",
              "  <thead>\n",
              "    <tr style=\"text-align: right;\">\n",
              "      <th></th>\n",
              "      <th>education_num</th>\n",
              "      <th>hours_per_week</th>\n",
              "    </tr>\n",
              "  </thead>\n",
              "  <tbody>\n",
              "    <tr>\n",
              "      <th>education_num</th>\n",
              "      <td>6.618890</td>\n",
              "      <td>4.705338</td>\n",
              "    </tr>\n",
              "    <tr>\n",
              "      <th>hours_per_week</th>\n",
              "      <td>4.705338</td>\n",
              "      <td>152.458995</td>\n",
              "    </tr>\n",
              "  </tbody>\n",
              "</table>\n",
              "</div>\n",
              "      <button class=\"colab-df-convert\" onclick=\"convertToInteractive('df-eec30a6f-ed1e-49ef-bd45-60a8fa998f41')\"\n",
              "              title=\"Convert this dataframe to an interactive table.\"\n",
              "              style=\"display:none;\">\n",
              "        \n",
              "  <svg xmlns=\"http://www.w3.org/2000/svg\" height=\"24px\"viewBox=\"0 0 24 24\"\n",
              "       width=\"24px\">\n",
              "    <path d=\"M0 0h24v24H0V0z\" fill=\"none\"/>\n",
              "    <path d=\"M18.56 5.44l.94 2.06.94-2.06 2.06-.94-2.06-.94-.94-2.06-.94 2.06-2.06.94zm-11 1L8.5 8.5l.94-2.06 2.06-.94-2.06-.94L8.5 2.5l-.94 2.06-2.06.94zm10 10l.94 2.06.94-2.06 2.06-.94-2.06-.94-.94-2.06-.94 2.06-2.06.94z\"/><path d=\"M17.41 7.96l-1.37-1.37c-.4-.4-.92-.59-1.43-.59-.52 0-1.04.2-1.43.59L10.3 9.45l-7.72 7.72c-.78.78-.78 2.05 0 2.83L4 21.41c.39.39.9.59 1.41.59.51 0 1.02-.2 1.41-.59l7.78-7.78 2.81-2.81c.8-.78.8-2.07 0-2.86zM5.41 20L4 18.59l7.72-7.72 1.47 1.35L5.41 20z\"/>\n",
              "  </svg>\n",
              "      </button>\n",
              "      \n",
              "  <style>\n",
              "    .colab-df-container {\n",
              "      display:flex;\n",
              "      flex-wrap:wrap;\n",
              "      gap: 12px;\n",
              "    }\n",
              "\n",
              "    .colab-df-convert {\n",
              "      background-color: #E8F0FE;\n",
              "      border: none;\n",
              "      border-radius: 50%;\n",
              "      cursor: pointer;\n",
              "      display: none;\n",
              "      fill: #1967D2;\n",
              "      height: 32px;\n",
              "      padding: 0 0 0 0;\n",
              "      width: 32px;\n",
              "    }\n",
              "\n",
              "    .colab-df-convert:hover {\n",
              "      background-color: #E2EBFA;\n",
              "      box-shadow: 0px 1px 2px rgba(60, 64, 67, 0.3), 0px 1px 3px 1px rgba(60, 64, 67, 0.15);\n",
              "      fill: #174EA6;\n",
              "    }\n",
              "\n",
              "    [theme=dark] .colab-df-convert {\n",
              "      background-color: #3B4455;\n",
              "      fill: #D2E3FC;\n",
              "    }\n",
              "\n",
              "    [theme=dark] .colab-df-convert:hover {\n",
              "      background-color: #434B5C;\n",
              "      box-shadow: 0px 1px 3px 1px rgba(0, 0, 0, 0.15);\n",
              "      filter: drop-shadow(0px 1px 2px rgba(0, 0, 0, 0.3));\n",
              "      fill: #FFFFFF;\n",
              "    }\n",
              "  </style>\n",
              "\n",
              "      <script>\n",
              "        const buttonEl =\n",
              "          document.querySelector('#df-eec30a6f-ed1e-49ef-bd45-60a8fa998f41 button.colab-df-convert');\n",
              "        buttonEl.style.display =\n",
              "          google.colab.kernel.accessAllowed ? 'block' : 'none';\n",
              "\n",
              "        async function convertToInteractive(key) {\n",
              "          const element = document.querySelector('#df-eec30a6f-ed1e-49ef-bd45-60a8fa998f41');\n",
              "          const dataTable =\n",
              "            await google.colab.kernel.invokeFunction('convertToInteractive',\n",
              "                                                     [key], {});\n",
              "          if (!dataTable) return;\n",
              "\n",
              "          const docLinkHtml = 'Like what you see? Visit the ' +\n",
              "            '<a target=\"_blank\" href=https://colab.research.google.com/notebooks/data_table.ipynb>data table notebook</a>'\n",
              "            + ' to learn more about interactive tables.';\n",
              "          element.innerHTML = '';\n",
              "          dataTable['output_type'] = 'display_data';\n",
              "          await google.colab.output.renderOutput(dataTable, element);\n",
              "          const docLink = document.createElement('div');\n",
              "          docLink.innerHTML = docLinkHtml;\n",
              "          element.appendChild(docLink);\n",
              "        }\n",
              "      </script>\n",
              "    </div>\n",
              "  </div>\n",
              "  "
            ],
            "text/plain": [
              "                education_num  hours_per_week\n",
              "education_num        6.618890        4.705338\n",
              "hours_per_week       4.705338      152.458995"
            ]
          },
          "metadata": {},
          "execution_count": 505
        }
      ]
    },
    {
      "cell_type": "markdown",
      "source": [
        "The covariance between education_num and hours_per_week is 4.7. So the education_num and hours_per_week tend to show similar behavior (greater values of one variable mainly correspond with the greater values of the other variable)."
      ],
      "metadata": {
        "id": "xoGxI-2VZ-Zr"
      }
    },
    {
      "cell_type": "markdown",
      "source": [
        "### Regression"
      ],
      "metadata": {
        "id": "FwWhe014L9VX"
      }
    },
    {
      "cell_type": "markdown",
      "source": [
        "1. Fit a linear regression with *hours_per_week* as the dependent variable and *sex* as the independent variable."
      ],
      "metadata": {
        "id": "a5t79b69MUA4"
      }
    },
    {
      "cell_type": "code",
      "source": [
        "reg = smf.ols('hours_per_week ~ sex', data = income94).fit()\n",
        "print(reg.summary())"
      ],
      "metadata": {
        "colab": {
          "base_uri": "https://localhost:8080/"
        },
        "id": "7Yu6QORObVHB",
        "outputId": "b47d1e89-07f3-4126-b68a-ec0e5c145eea"
      },
      "execution_count": 506,
      "outputs": [
        {
          "output_type": "stream",
          "name": "stdout",
          "text": [
            "                            OLS Regression Results                            \n",
            "==============================================================================\n",
            "Dep. Variable:         hours_per_week   R-squared:                       0.053\n",
            "Model:                            OLS   Adj. R-squared:                  0.053\n",
            "Method:                 Least Squares   F-statistic:                     1807.\n",
            "Date:                Mon, 14 Feb 2022   Prob (F-statistic):               0.00\n",
            "Time:                        11:25:58   Log-Likelihood:            -1.2716e+05\n",
            "No. Observations:               32561   AIC:                         2.543e+05\n",
            "Df Residuals:                   32559   BIC:                         2.543e+05\n",
            "Df Model:                           1                                         \n",
            "Covariance Type:            nonrobust                                         \n",
            "================================================================================\n",
            "                   coef    std err          t      P>|t|      [0.025      0.975]\n",
            "--------------------------------------------------------------------------------\n",
            "Intercept       36.4104      0.116    314.412      0.000      36.183      36.637\n",
            "sex[T. Male]     6.0177      0.142     42.510      0.000       5.740       6.295\n",
            "==============================================================================\n",
            "Omnibus:                     2649.390   Durbin-Watson:                   2.019\n",
            "Prob(Omnibus):                  0.000   Jarque-Bera (JB):            13090.867\n",
            "Skew:                           0.239   Prob(JB):                         0.00\n",
            "Kurtosis:                       6.069   Cond. No.                         3.24\n",
            "==============================================================================\n",
            "\n",
            "Warnings:\n",
            "[1] Standard Errors assume that the covariance matrix of the errors is correctly specified.\n"
          ]
        }
      ]
    },
    {
      "cell_type": "markdown",
      "source": [
        "a. Do men tend to work more hours?"
      ],
      "metadata": {
        "id": "n820dQKvNAJ3"
      }
    },
    {
      "cell_type": "markdown",
      "source": [
        "Yes, since $β_1 = 6.0117$ indicates that men works 6.0117 hours more than women on average."
      ],
      "metadata": {
        "id": "hwbvNrixhW33"
      }
    },
    {
      "cell_type": "markdown",
      "source": [
        "b. Add *education_num* as a control variable, does the trend in hours worked by men vs women remain the same? Is the coefficient for *education_num* statistically significant? What is the 95% confidence interval?\n"
      ],
      "metadata": {
        "id": "y0PrwaBANDmL"
      }
    },
    {
      "cell_type": "code",
      "source": [
        "reg = smf.ols('hours_per_week ~ sex + education_num', data = income94).fit()\n",
        "print(reg.summary())"
      ],
      "metadata": {
        "colab": {
          "base_uri": "https://localhost:8080/"
        },
        "id": "W8fxgG5ablzQ",
        "outputId": "cb1f0541-3260-4b29-b9c1-3d8d978529e3"
      },
      "execution_count": 507,
      "outputs": [
        {
          "output_type": "stream",
          "name": "stdout",
          "text": [
            "                            OLS Regression Results                            \n",
            "==============================================================================\n",
            "Dep. Variable:         hours_per_week   R-squared:                       0.074\n",
            "Model:                            OLS   Adj. R-squared:                  0.074\n",
            "Method:                 Least Squares   F-statistic:                     1295.\n",
            "Date:                Mon, 14 Feb 2022   Prob (F-statistic):               0.00\n",
            "Time:                        11:25:59   Log-Likelihood:            -1.2680e+05\n",
            "No. Observations:               32561   AIC:                         2.536e+05\n",
            "Df Residuals:                   32558   BIC:                         2.536e+05\n",
            "Df Model:                           2                                         \n",
            "Covariance Type:            nonrobust                                         \n",
            "=================================================================================\n",
            "                    coef    std err          t      P>|t|      [0.025      0.975]\n",
            "---------------------------------------------------------------------------------\n",
            "Intercept        29.4106      0.281    104.556      0.000      28.859      29.962\n",
            "sex[T. Male]      5.9709      0.140     42.653      0.000       5.697       6.245\n",
            "education_num     0.6975      0.026     27.244      0.000       0.647       0.748\n",
            "==============================================================================\n",
            "Omnibus:                     2783.881   Durbin-Watson:                   2.018\n",
            "Prob(Omnibus):                  0.000   Jarque-Bera (JB):            14492.060\n",
            "Skew:                           0.247   Prob(JB):                         0.00\n",
            "Kurtosis:                       6.231   Cond. No.                         45.6\n",
            "==============================================================================\n",
            "\n",
            "Warnings:\n",
            "[1] Standard Errors assume that the covariance matrix of the errors is correctly specified.\n"
          ]
        }
      ]
    },
    {
      "cell_type": "markdown",
      "source": [
        " The trend in hours worked by men vs women remain the same and the coefficient for education_num is statistically significant. The 95% confidence interval is [5.697, 6.245] for sex and [0.647, 0.748] for education_num."
      ],
      "metadata": {
        "id": "aVhJbPnfjim3"
      }
    },
    {
      "cell_type": "markdown",
      "source": [
        "c. Now add *gross_income_group* as a binary variable in the model and compare this model with the models including (i) only *sex* and (ii) *sex* and *education_num*.  Write down the interpretation for the coefficient for sex in each model.  What statistic(s) can help to decide which model is the “best”?  How do the three models compare?"
      ],
      "metadata": {
        "id": "Z4U8RkvaNW9M"
      }
    },
    {
      "cell_type": "code",
      "source": [
        "reg = smf.ols('hours_per_week ~ sex + education_num + gross_income_group', data = income94).fit()\n",
        "print(reg.summary())"
      ],
      "metadata": {
        "colab": {
          "base_uri": "https://localhost:8080/"
        },
        "id": "zLv3FoCtbjAD",
        "outputId": "1a2dff7d-dcbc-4f05-9e82-9b6f6dc1fa8f"
      },
      "execution_count": 508,
      "outputs": [
        {
          "output_type": "stream",
          "name": "stdout",
          "text": [
            "                            OLS Regression Results                            \n",
            "==============================================================================\n",
            "Dep. Variable:         hours_per_week   R-squared:                       0.094\n",
            "Model:                            OLS   Adj. R-squared:                  0.094\n",
            "Method:                 Least Squares   F-statistic:                     1130.\n",
            "Date:                Mon, 14 Feb 2022   Prob (F-statistic):               0.00\n",
            "Time:                        11:26:00   Log-Likelihood:            -1.2643e+05\n",
            "No. Observations:               32561   AIC:                         2.529e+05\n",
            "Df Residuals:                   32557   BIC:                         2.529e+05\n",
            "Df Model:                           3                                         \n",
            "Covariance Type:            nonrobust                                         \n",
            "===============================================================================================\n",
            "                                  coef    std err          t      P>|t|      [0.025      0.975]\n",
            "-----------------------------------------------------------------------------------------------\n",
            "Intercept                      31.4218      0.288    109.184      0.000      30.858      31.986\n",
            "sex[T. Male]                    5.1010      0.142     35.907      0.000       4.823       5.379\n",
            "gross_income_group[T. >50K]     4.5175      0.166     27.229      0.000       4.192       4.843\n",
            "education_num                   0.4478      0.027     16.632      0.000       0.395       0.501\n",
            "==============================================================================\n",
            "Omnibus:                     2984.190   Durbin-Watson:                   2.015\n",
            "Prob(Omnibus):                  0.000   Jarque-Bera (JB):            15467.160\n",
            "Skew:                           0.296   Prob(JB):                         0.00\n",
            "Kurtosis:                       6.324   Cond. No.                         48.1\n",
            "==============================================================================\n",
            "\n",
            "Warnings:\n",
            "[1] Standard Errors assume that the covariance matrix of the errors is correctly specified.\n"
          ]
        }
      ]
    },
    {
      "cell_type": "markdown",
      "source": [
        "(i) The coefficient for sex is the estimated expected difference in number of working hours per week compare male with female (positive value indicates that male work for more hours).\n",
        "\n",
        "(ii) The coefficient for sex is the estimated expected difference in number of working hours per week compare male with female holding education_num constant. (positive value indicates that male work for more hours).\n",
        "\n",
        "(iii) The coefficient for sex is the estimated expected difference in number of working hours per week compare male with female holding education_num and gross_income_group constant. (positive value indicates that male work for more hours).\n",
        "\n",
        "Statistics R-squared and adjusted R-squared can help to decide which model is the “best”. The R-squared and adjusted R-squared for model 1 (0.053) is less than that of model 2 (0.074) and less than that of model 3 (0.094), so (iii) fits the data better than (ii) better than (i)."
      ],
      "metadata": {
        "id": "l6PDngg8ksis"
      }
    },
    {
      "cell_type": "markdown",
      "source": [
        "##PART III - Reporting on your own regression analysis"
      ],
      "metadata": {
        "id": "0s2MVaWj_Yw3"
      }
    },
    {
      "cell_type": "markdown",
      "source": [
        "My question: whether black people and white people of the same age and gender had equal access to educational resources at that time?"
      ],
      "metadata": {
        "id": "mNPaRrQHBqtJ"
      }
    },
    {
      "cell_type": "code",
      "source": [
        "# Filter out the observations of black or white people\n",
        "black_whiht_df = income94.loc[(income94['race']==' Black') | (income94['race']==' White')]\n",
        "black_whiht_df.shape"
      ],
      "metadata": {
        "colab": {
          "base_uri": "https://localhost:8080/"
        },
        "id": "QD6KpjID_XJP",
        "outputId": "7254947e-e871-4bc4-89e5-d312b72186dc"
      },
      "execution_count": 509,
      "outputs": [
        {
          "output_type": "execute_result",
          "data": {
            "text/plain": [
              "(30940, 17)"
            ]
          },
          "metadata": {},
          "execution_count": 509
        }
      ]
    },
    {
      "cell_type": "code",
      "source": [
        "reg = smf.ols('education_num ~ race + age', data = black_whiht_df).fit()\n",
        "print(reg.summary())"
      ],
      "metadata": {
        "colab": {
          "base_uri": "https://localhost:8080/"
        },
        "id": "dYWOVzSwrFvx",
        "outputId": "e1647930-151f-4391-9b1e-8cd9eec84862"
      },
      "execution_count": 510,
      "outputs": [
        {
          "output_type": "stream",
          "name": "stdout",
          "text": [
            "                            OLS Regression Results                            \n",
            "==============================================================================\n",
            "Dep. Variable:          education_num   R-squared:                       0.007\n",
            "Model:                            OLS   Adj. R-squared:                  0.007\n",
            "Method:                 Least Squares   F-statistic:                     112.8\n",
            "Date:                Mon, 14 Feb 2022   Prob (F-statistic):           1.51e-49\n",
            "Time:                        11:26:00   Log-Likelihood:                -72771.\n",
            "No. Observations:               30940   AIC:                         1.455e+05\n",
            "Df Residuals:                   30937   BIC:                         1.456e+05\n",
            "Df Model:                           2                                         \n",
            "Covariance Type:            nonrobust                                         \n",
            "==================================================================================\n",
            "                     coef    std err          t      P>|t|      [0.025      0.975]\n",
            "----------------------------------------------------------------------------------\n",
            "Intercept          9.2257      0.061    152.475      0.000       9.107       9.344\n",
            "race[T. White]     0.6421      0.048     13.381      0.000       0.548       0.736\n",
            "age                0.0069      0.001      6.529      0.000       0.005       0.009\n",
            "==============================================================================\n",
            "Omnibus:                      891.907   Durbin-Watson:                   1.998\n",
            "Prob(Omnibus):                  0.000   Jarque-Bera (JB):             1174.003\n",
            "Skew:                          -0.336   Prob(JB):                    1.17e-255\n",
            "Kurtosis:                       3.677   Cond. No.                         203.\n",
            "==============================================================================\n",
            "\n",
            "Warnings:\n",
            "[1] Standard Errors assume that the covariance matrix of the errors is correctly specified.\n"
          ]
        }
      ]
    }
  ]
}